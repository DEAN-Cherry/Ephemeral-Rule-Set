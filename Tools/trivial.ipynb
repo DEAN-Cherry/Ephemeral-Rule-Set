{
 "cells": [
  {
   "cell_type": "code",
   "execution_count": null,
   "id": "initial_id",
   "metadata": {
    "ExecuteTime": {
     "end_time": "2024-02-04T10:27:10.549480300Z",
     "start_time": "2024-02-04T10:27:10.535958600Z"
    },
    "collapsed": true
   },
   "outputs": [
    {
     "ename": "",
     "evalue": "",
     "output_type": "error",
     "traceback": [
      "\u001b[1;31m运行具有“Python 3.13.0”的单元格需要ipykernel包。\n",
      "\u001b[1;31m运行以下命令，将 \"ipykernel\" 安装到 Python 环境中。\n",
      "\u001b[1;31m命令: \"c:/Users/Bryan/AppData/Roaming/uv/python/cpython-3.13.0-windows-x86_64-none/python.exe -m pip install ipykernel -U --user --force-reinstall\""
     ]
    }
   ],
   "source": [
    "import json\n",
    "\n",
    "# files_dir = \"../Config/AdGuard Home/\"\n",
    "files_dir = \"../sing-box/\"\n",
    "\n",
    "with open(files_dir + \"config.json\", encoding=\"utf-8\") as f:\n",
    "    data = json.load(f)\n",
    "\n",
    "with open(files_dir + \"dns.json\", encoding=\"utf-8\") as f:\n",
    "    dns = json.load(f)\n",
    "\n",
    "\n",
    "with open(files_dir + \"outbounds.json\", encoding=\"utf-8\") as f:\n",
    "\n",
    "    outbounds = json.load(f)\n",
    "\n",
    "\n",
    "with open(files_dir + \"route.json\", encoding=\"utf-8\") as f:\n",
    "    route = json.load(f)\n",
    "\n",
    "\n",
    "data[\"outbounds\"] = outbounds[\"outbounds\"]\n",
    "\n",
    "data[\"dns\"] = dns[\"dns\"]\n",
    "\n",
    "data[\"route\"] = route[\"route\"]\n",
    "\n",
    "\n",
    "with open(files_dir + \"config.json\", \"w\", encoding=\"utf-8\") as f:\n",
    "\n",
    "    json.dump(data, f, ensure_ascii=False, indent=4)"
   ]
  },
  {
   "cell_type": "code",
   "execution_count": null,
   "id": "8c01c763",
   "metadata": {},
   "outputs": [],
   "source": []
  },
  {
   "cell_type": "code",
   "execution_count": null,
   "id": "31e4e2b3",
   "metadata": {},
   "outputs": [],
   "source": []
  },
  {
   "cell_type": "code",
   "execution_count": 25,
   "id": "6c8898ff",
   "metadata": {},
   "outputs": [
    {
     "data": {
      "text/plain": [
       "{'version': 1,\n",
       " 'rules': [{'domain_suffix': ['.baike.baidu.com',\n",
       "    '.ol.epicgames.com',\n",
       "    '.dizhensubao.getui.com',\n",
       "    '.googletraveladservices.com',\n",
       "    '.tracking-protection.cdn.mozilla.net',\n",
       "    '.koodomobile.com',\n",
       "    '.koodomobile.ca'],\n",
       "   'domain': ['baike.baidu.com',\n",
       "    'dl.google.com',\n",
       "    'origin-a.akamaihd.net',\n",
       "    'fairplay.l.qq.com',\n",
       "    'livew.l.qq.com',\n",
       "    'vd.l.qq.com',\n",
       "    'errlog.umeng.com',\n",
       "    'msg.umeng.com',\n",
       "    'msg.umengcloud.com',\n",
       "    'tracking.miui.com',\n",
       "    'app.adjust.com',\n",
       "    'bdtj.tagtic.cn',\n",
       "    'rewards.hypixel.net',\n",
       "    'baike.baidu.com',\n",
       "    'ol.epicgames.com',\n",
       "    'dizhensubao.getui.com',\n",
       "    'googletraveladservices.com',\n",
       "    'tracking-protection.cdn.mozilla.net',\n",
       "    'koodomobile.com',\n",
       "    'koodomobile.ca']}]}"
      ]
     },
     "execution_count": 25,
     "metadata": {},
     "output_type": "execute_result"
    }
   ],
   "source": [
    "customRule = \"UnBan.json\"\n",
    "\n",
    "with open(\"../CustomRules/\" + customRule, encoding=\"utf-8\") as f:\n",
    "    ruleJson = json.load(f)\n",
    "\n",
    "rules = ruleJson[\"rules\"][0]\n",
    "domain_suffix = rules.get(\"domain_suffix\", [])\n",
    "domain = rules.get(\"domain\", [])\n",
    "\n",
    "for suffix in domain_suffix:\n",
    "    domain.append(suffix)\n",
    "\n",
    "domain_suffixWithDot = [\".\" + i for i in domain_suffix]\n",
    "ruleJson[\"rules\"][0][\"domain_suffix\"] = domain_suffixWithDot\n",
    "ruleJson[\"rules\"][0][\"domain\"] = domain\n",
    "ruleJson"
   ]
  },
  {
   "cell_type": "code",
   "execution_count": 26,
   "id": "aa0a4078",
   "metadata": {},
   "outputs": [],
   "source": [
    "with open('../CustomRules/'+ customRule, 'w', encoding='utf-8') as f:\n",
    "    json.dump(ruleJson, f, sort_keys=True ,ensure_ascii=False, indent=4)"
   ]
  }
 ],
 "metadata": {
  "kernelspec": {
   "display_name": "Python 3",
   "language": "python",
   "name": "python3"
  },
  "language_info": {
   "codemirror_mode": {
    "name": "ipython",
    "version": 3
   },
   "file_extension": ".py",
   "mimetype": "text/x-python",
   "name": "python",
   "nbconvert_exporter": "python",
   "pygments_lexer": "ipython3",
   "version": "3.13.0"
  }
 },
 "nbformat": 4,
 "nbformat_minor": 5
}
