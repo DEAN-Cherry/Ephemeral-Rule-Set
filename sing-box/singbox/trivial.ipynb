{
 "cells": [
  {
   "cell_type": "code",
   "execution_count": 1,
   "metadata": {},
   "outputs": [],
   "source": [
    "import json\n",
    "\n",
    "# files_dir = \"../Config/AdGuard Home/\"\n",
    "files_dir = \"./\"\n",
    "\n",
    "with open(files_dir + \"config.json\", encoding=\"utf-8\") as f:\n",
    "    data = json.load(f)\n",
    "\n",
    "with open(files_dir + \"dns.json\", encoding=\"utf-8\") as f:\n",
    "    dns = json.load(f)\n",
    "\n",
    "\n",
    "\n",
    "# with open(files_dir + \"outbounds.json\", encoding=\"utf-8\") as f:\n",
    "\n",
    "#     outbounds = json.load(f)\n",
    "\n",
    "\n",
    "# with open(files_dir + \"route.json\", encoding=\"utf-8\") as f:\n",
    "#     route = json.load(f)\n",
    "\n",
    "\n",
    "# data[\"outbounds\"] = outbounds[\"outbounds\"]\n",
    "\n",
    "data[\"dns\"] = dns[\"dns\"]\n",
    "\n",
    "# data[\"route\"] = route[\"route\"]\n",
    "\n",
    "\n",
    "with open(files_dir + \"config.json\", \"w\", encoding=\"utf-8\") as f:\n",
    "\n",
    "    json.dump(data, f, ensure_ascii=False, indent=4)"
   ]
  }
 ],
 "metadata": {
  "kernelspec": {
   "display_name": "base",
   "language": "python",
   "name": "python3"
  },
  "language_info": {
   "codemirror_mode": {
    "name": "ipython",
    "version": 3
   },
   "file_extension": ".py",
   "mimetype": "text/x-python",
   "name": "python",
   "nbconvert_exporter": "python",
   "pygments_lexer": "ipython3",
   "version": "3.12.2"
  }
 },
 "nbformat": 4,
 "nbformat_minor": 2
}
